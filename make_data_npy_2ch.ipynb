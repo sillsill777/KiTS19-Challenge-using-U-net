{
 "cells": [
  {
   "cell_type": "code",
   "execution_count": 1,
   "id": "e0330b26",
   "metadata": {},
   "outputs": [],
   "source": [
    "import torch\n",
    "import os\n",
    "import numpy as np\n",
    "import torch.nn as nn\n",
    "from torch.nn import functional as F\n",
    "from tqdm.auto import tqdm"
   ]
  },
  {
   "cell_type": "code",
   "execution_count": 2,
   "id": "00b7034f",
   "metadata": {},
   "outputs": [],
   "source": [
    "root=os.path.join('.','data_npy')\n",
    "train_root=os.path.join(root,'train','segmentation')\n",
    "valid_root=os.path.join(root,'valid','segmentation')\n"
   ]
  },
  {
   "cell_type": "code",
   "execution_count": 3,
   "id": "51d7a3f0",
   "metadata": {},
   "outputs": [],
   "source": [
    "save_root=os.path.join('.','data_npy_2ch')\n",
    "save_train_root=os.path.join(save_root,'train','segmentation')\n",
    "save_valid_root=os.path.join(save_root,'valid','segmentation')"
   ]
  },
  {
   "cell_type": "code",
   "execution_count": 4,
   "id": "39d027df",
   "metadata": {},
   "outputs": [
    {
     "data": {
      "application/vnd.jupyter.widget-view+json": {
       "model_id": "43e8c002f5a4400ca9e0490efb083ba6",
       "version_major": 2,
       "version_minor": 0
      },
      "text/plain": [
       "  0%|          | 0/37250 [00:00<?, ?it/s]"
      ]
     },
     "metadata": {},
     "output_type": "display_data"
    }
   ],
   "source": [
    "for iters in tqdm(range(37250)):\n",
    "    cid='{:05d}.npy'.format(iters)\n",
    "    seg=np.load(os.path.join(train_root,cid))\n",
    "    seg=torch.tensor(seg,dtype=torch.int64)\n",
    "    seg_2ch=F.one_hot(seg,num_classes=2)\n",
    "    seg_2ch=torch.squeeze(seg_2ch.permute(3,0,1,2))\n",
    "    seg_2ch=np.array(seg_2ch,dtype=np.uint8)\n",
    "    np.save(os.path.join(save_train_root,cid),seg_2ch)"
   ]
  },
  {
   "cell_type": "code",
   "execution_count": 5,
   "id": "9ea25123",
   "metadata": {},
   "outputs": [
    {
     "data": {
      "application/vnd.jupyter.widget-view+json": {
       "model_id": "8047635a98d741a6862b355241db0236",
       "version_major": 2,
       "version_minor": 0
      },
      "text/plain": [
       "  0%|          | 0/7922 [00:00<?, ?it/s]"
      ]
     },
     "metadata": {},
     "output_type": "display_data"
    }
   ],
   "source": [
    "for iters in tqdm(range(7922)):\n",
    "    cid='{:05d}.npy'.format(iters)\n",
    "    seg=np.load(os.path.join(valid_root,cid))\n",
    "    seg=torch.tensor(seg,dtype=torch.int64)\n",
    "    seg_2ch=F.one_hot(seg,num_classes=2)\n",
    "    seg_2ch=torch.squeeze(seg_2ch.permute(3,0,1,2))\n",
    "    seg_2ch=np.array(seg_2ch,dtype=np.uint8)\n",
    "    np.save(os.path.join(save_valid_root,cid),seg_2ch)"
   ]
  },
  {
   "cell_type": "code",
   "execution_count": null,
   "id": "02522871",
   "metadata": {},
   "outputs": [],
   "source": []
  }
 ],
 "metadata": {
  "kernelspec": {
   "display_name": "Python 3 (ipykernel)",
   "language": "python",
   "name": "python3"
  },
  "language_info": {
   "codemirror_mode": {
    "name": "ipython",
    "version": 3
   },
   "file_extension": ".py",
   "mimetype": "text/x-python",
   "name": "python",
   "nbconvert_exporter": "python",
   "pygments_lexer": "ipython3",
   "version": "3.9.7"
  }
 },
 "nbformat": 4,
 "nbformat_minor": 5
}
