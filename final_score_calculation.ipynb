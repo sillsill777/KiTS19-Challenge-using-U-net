{
 "cells": [
  {
   "cell_type": "code",
   "execution_count": 1,
   "id": "96e9ee40",
   "metadata": {},
   "outputs": [],
   "source": [
    "from makedataset import makeDataset\n",
    "from model import UNet\n",
    "import torch\n",
    "import torch.nn as nn\n",
    "from torch.utils.data import DataLoader\n",
    "from tqdm import tqdm\n",
    "import numpy as np\n",
    "import config\n",
    "import time\n",
    "import pickle\n",
    "import matplotlib.pyplot as plt\n",
    "from torchsummary import summary"
   ]
  },
  {
   "cell_type": "code",
   "execution_count": 2,
   "id": "e839e3cc",
   "metadata": {},
   "outputs": [],
   "source": [
    "class DiceScore(nn.Module):\n",
    "    def __init__(self, weight=None, size_average=True):\n",
    "        super().__init__()\n",
    "        self.normalization=nn.Softmax(dim=1)\n",
    "\n",
    "    def forward(self, inputs, targets, smooth=1e-4):\n",
    "        inputs = self.normalization(inputs)\n",
    "\n",
    "        targets = targets[:, 1:2, ...]\n",
    "        inputs = torch.where(inputs[:, 1:2, ...] > 0.5, 1.0, 0.0)\n",
    "\n",
    "        inputs = inputs.reshape(-1)\n",
    "        targets = targets.reshape(-1)\n",
    "\n",
    "        intersection = (inputs * targets).sum()\n",
    "        dice = (2. * intersection + smooth) / (inputs.sum() + targets.sum() + smooth)\n",
    "\n",
    "        return dice"
   ]
  },
  {
   "cell_type": "code",
   "execution_count": 3,
   "id": "ea6d8451",
   "metadata": {},
   "outputs": [],
   "source": [
    "validds=makeDataset(kind='valid',location='data_npy')\n",
    "validLoader=DataLoader(validds,batch_size=1,shuffle=False, pin_memory=config.PIN_MEMORY)\n",
    "DiceCoef = DiceScore()\n",
    "\n",
    "totaldice=0\n",
    "validstep=0"
   ]
  },
  {
   "cell_type": "code",
   "execution_count": 4,
   "id": "18fe61f7",
   "metadata": {},
   "outputs": [
    {
     "data": {
      "text/plain": [
       "<All keys matched successfully>"
      ]
     },
     "execution_count": 4,
     "metadata": {},
     "output_type": "execute_result"
    }
   ],
   "source": [
    "unet = UNet(64,5,use_xavier=True,use_batchNorm=True,dropout=0.5,retain_size=True,nbCls=2)\n",
    "devices = 'cpu'\n",
    "device_num = 0\n",
    "if torch.cuda.is_available():\n",
    "    devices = 'gpu'\n",
    "    device_num = torch.cuda.device_count()\n",
    "    unet = torch.nn.DataParallel(unet)\n",
    "unet.to(config.DEVICE)\n",
    "unet.load_state_dict(torch.load('./final_result/unet.pt'))"
   ]
  },
  {
   "cell_type": "code",
   "execution_count": 5,
   "id": "bd27ccd2",
   "metadata": {},
   "outputs": [
    {
     "name": "stdout",
     "output_type": "stream",
     "text": [
      "Elapsed Time: 601.500\n"
     ]
    }
   ],
   "source": [
    "start_time=time.time()\n",
    "with torch.no_grad():\n",
    "    unet.eval()\n",
    "    for (x,y) in validLoader:\n",
    "        (x,y) = (x.to(config.DEVICE),y.to(config.DEVICE))\n",
    "        pred=unet(x)\n",
    "        dice_score=DiceCoef(pred,y)\n",
    "        \n",
    "        validstep+=1      \n",
    "        totaldice += dice_score\n",
    "end_time=time.time()\n",
    "print('Elapsed Time: {:.3f}'.format(end_time-start_time))"
   ]
  },
  {
   "cell_type": "code",
   "execution_count": 6,
   "id": "f77f7671",
   "metadata": {},
   "outputs": [
    {
     "name": "stdout",
     "output_type": "stream",
     "text": [
      "Estimated Dice Score for Validation set: 95.3493%\n"
     ]
    }
   ],
   "source": [
    "print('Estimated Dice Score for Validation set: {:.04f}%'.format((totaldice/validstep).item()*100))"
   ]
  },
  {
   "cell_type": "markdown",
   "id": "392968c4",
   "metadata": {},
   "source": [
    "# 93.5450% for drop out at evey layer & loss: GDC\n",
    "\n",
    "# 94.1459% for dropout at every layer and loss Dice Loss\n",
    "\n",
    "# 94.9923% for drop out at lowest layer and GDC, but Randomcrop 256(4X Faster)\n",
    "\n",
    "# 95.3493% for drop out at lowest layer and GDC->Final Model"
   ]
  },
  {
   "cell_type": "markdown",
   "id": "00a4de3d",
   "metadata": {},
   "source": [
    "## UNet Model Summary"
   ]
  },
  {
   "cell_type": "code",
   "execution_count": 9,
   "id": "2968b465",
   "metadata": {},
   "outputs": [
    {
     "name": "stdout",
     "output_type": "stream",
     "text": [
      "----------------------------------------------------------------\n",
      "        Layer (type)               Output Shape         Param #\n",
      "================================================================\n",
      "            Conv2d-1         [-1, 64, 512, 512]             640\n",
      "              ReLU-2         [-1, 64, 512, 512]               0\n",
      "       BatchNorm2d-3         [-1, 64, 512, 512]             128\n",
      "            Conv2d-4         [-1, 64, 512, 512]          36,928\n",
      "              ReLU-5         [-1, 64, 512, 512]               0\n",
      "       BatchNorm2d-6         [-1, 64, 512, 512]             128\n",
      "             Block-7         [-1, 64, 512, 512]               0\n",
      "         MaxPool2d-8         [-1, 64, 256, 256]               0\n",
      "            Conv2d-9        [-1, 128, 256, 256]          73,856\n",
      "             ReLU-10        [-1, 128, 256, 256]               0\n",
      "      BatchNorm2d-11        [-1, 128, 256, 256]             256\n",
      "           Conv2d-12        [-1, 128, 256, 256]         147,584\n",
      "             ReLU-13        [-1, 128, 256, 256]               0\n",
      "      BatchNorm2d-14        [-1, 128, 256, 256]             256\n",
      "            Block-15        [-1, 128, 256, 256]               0\n",
      "        MaxPool2d-16        [-1, 128, 128, 128]               0\n",
      "           Conv2d-17        [-1, 256, 128, 128]         295,168\n",
      "             ReLU-18        [-1, 256, 128, 128]               0\n",
      "      BatchNorm2d-19        [-1, 256, 128, 128]             512\n",
      "           Conv2d-20        [-1, 256, 128, 128]         590,080\n",
      "             ReLU-21        [-1, 256, 128, 128]               0\n",
      "      BatchNorm2d-22        [-1, 256, 128, 128]             512\n",
      "            Block-23        [-1, 256, 128, 128]               0\n",
      "        MaxPool2d-24          [-1, 256, 64, 64]               0\n",
      "           Conv2d-25          [-1, 512, 64, 64]       1,180,160\n",
      "             ReLU-26          [-1, 512, 64, 64]               0\n",
      "      BatchNorm2d-27          [-1, 512, 64, 64]           1,024\n",
      "           Conv2d-28          [-1, 512, 64, 64]       2,359,808\n",
      "             ReLU-29          [-1, 512, 64, 64]               0\n",
      "      BatchNorm2d-30          [-1, 512, 64, 64]           1,024\n",
      "            Block-31          [-1, 512, 64, 64]               0\n",
      "        MaxPool2d-32          [-1, 512, 32, 32]               0\n",
      "           Conv2d-33         [-1, 1024, 32, 32]       4,719,616\n",
      "             ReLU-34         [-1, 1024, 32, 32]               0\n",
      "      BatchNorm2d-35         [-1, 1024, 32, 32]           2,048\n",
      "           Conv2d-36         [-1, 1024, 32, 32]       9,438,208\n",
      "             ReLU-37         [-1, 1024, 32, 32]               0\n",
      "      BatchNorm2d-38         [-1, 1024, 32, 32]           2,048\n",
      "            Block-39         [-1, 1024, 32, 32]               0\n",
      "        Dropout2d-40         [-1, 1024, 32, 32]               0\n",
      "          Encoder-41  [[-1, 64, 512, 512], [-1, 128, 256, 256], [-1, 256, 128, 128], [-1, 512, 64, 64], [-1, 1024, 32, 32]]               0\n",
      "  ConvTranspose2d-42          [-1, 512, 64, 64]       2,097,664\n",
      "           Conv2d-43          [-1, 512, 64, 64]       4,719,104\n",
      "             ReLU-44          [-1, 512, 64, 64]               0\n",
      "      BatchNorm2d-45          [-1, 512, 64, 64]           1,024\n",
      "           Conv2d-46          [-1, 512, 64, 64]       2,359,808\n",
      "             ReLU-47          [-1, 512, 64, 64]               0\n",
      "      BatchNorm2d-48          [-1, 512, 64, 64]           1,024\n",
      "            Block-49          [-1, 512, 64, 64]               0\n",
      "  ConvTranspose2d-50        [-1, 256, 128, 128]         524,544\n",
      "           Conv2d-51        [-1, 256, 128, 128]       1,179,904\n",
      "             ReLU-52        [-1, 256, 128, 128]               0\n",
      "      BatchNorm2d-53        [-1, 256, 128, 128]             512\n",
      "           Conv2d-54        [-1, 256, 128, 128]         590,080\n",
      "             ReLU-55        [-1, 256, 128, 128]               0\n",
      "      BatchNorm2d-56        [-1, 256, 128, 128]             512\n",
      "            Block-57        [-1, 256, 128, 128]               0\n",
      "  ConvTranspose2d-58        [-1, 128, 256, 256]         131,200\n",
      "           Conv2d-59        [-1, 128, 256, 256]         295,040\n",
      "             ReLU-60        [-1, 128, 256, 256]               0\n",
      "      BatchNorm2d-61        [-1, 128, 256, 256]             256\n",
      "           Conv2d-62        [-1, 128, 256, 256]         147,584\n",
      "             ReLU-63        [-1, 128, 256, 256]               0\n",
      "      BatchNorm2d-64        [-1, 128, 256, 256]             256\n",
      "            Block-65        [-1, 128, 256, 256]               0\n",
      "  ConvTranspose2d-66         [-1, 64, 512, 512]          32,832\n",
      "           Conv2d-67         [-1, 64, 512, 512]          73,792\n",
      "             ReLU-68         [-1, 64, 512, 512]               0\n",
      "      BatchNorm2d-69         [-1, 64, 512, 512]             128\n",
      "           Conv2d-70         [-1, 64, 512, 512]          36,928\n",
      "             ReLU-71         [-1, 64, 512, 512]               0\n",
      "      BatchNorm2d-72         [-1, 64, 512, 512]             128\n",
      "            Block-73         [-1, 64, 512, 512]               0\n",
      "          Decoder-74         [-1, 64, 512, 512]               0\n",
      "           Conv2d-75          [-1, 2, 512, 512]             130\n",
      "             UNet-76          [-1, 2, 512, 512]               0\n",
      "================================================================\n",
      "Total params: 31,042,434\n",
      "Trainable params: 31,042,434\n",
      "Non-trainable params: 0\n",
      "----------------------------------------------------------------\n",
      "Input size (MB): 1.00\n",
      "Forward/backward pass size (MB): 3860.00\n",
      "Params size (MB): 118.42\n",
      "Estimated Total Size (MB): 3979.42\n",
      "----------------------------------------------------------------\n"
     ]
    }
   ],
   "source": [
    "summary(unet,input_size=(1,512,512))"
   ]
  },
  {
   "cell_type": "code",
   "execution_count": 2,
   "id": "32fbb30d",
   "metadata": {},
   "outputs": [],
   "source": [
    "with open('./final_result/history.pkl','rb') as f:\n",
    "    history=pickle.load(f)"
   ]
  },
  {
   "cell_type": "code",
   "execution_count": 3,
   "id": "68d92eba",
   "metadata": {},
   "outputs": [
    {
     "data": {
      "image/png": "[encoded data removed]",
      "text/plain": [
       "<Figure size 1080x720 with 1 Axes>"
      ]
     },
     "metadata": {},
     "output_type": "display_data"
    }
   ],
   "source": [
    "plt.style.use('ggplot')\n",
    "plt.figure(figsize=(15,10))\n",
    "plt.plot(np.arange(1,35),history['dice_valid_score'],'o-',label='Validation')\n",
    "plt.title('Train Result')\n",
    "plt.xlabel('# of Epochs')\n",
    "plt.ylabel('Dice Score')\n",
    "plt.legend(loc='lower right')\n",
    "plt.savefig('./final_result/train_result.png')"
   ]
  },
  {
   "cell_type": "code",
   "execution_count": null,
   "id": "a858247e",
   "metadata": {},
   "outputs": [],
   "source": []
  }
 ],
 "metadata": {
  "kernelspec": {
   "display_name": "Python 3 (ipykernel)",
   "language": "python",
   "name": "python3"
  },
  "language_info": {
   "codemirror_mode": {
    "name": "ipython",
    "version": 3
   },
   "file_extension": ".py",
   "mimetype": "text/x-python",
   "name": "python",
   "nbconvert_exporter": "python",
   "pygments_lexer": "ipython3",
   "version": "3.9.7"
  }
 },
 "nbformat": 4,
 "nbformat_minor": 5
}
