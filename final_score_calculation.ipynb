{
 "cells": [
  {
   "cell_type": "code",
   "execution_count": null,
   "id": "96e9ee40",
   "metadata": {},
   "outputs": [],
   "source": [
    "from makedataset import makeDataset\n",
    "from model import UNet\n",
    "import torch\n",
    "import torch.nn as nn\n",
    "from torch.utils.data import DataLoader\n",
    "from tqdm import tqdm\n",
    "import numpy as np\n",
    "import config\n",
    "import time\n",
    "import pickle\n",
    "import matplotlib.pyplot as plt"
   ]
  },
  {
   "cell_type": "code",
   "execution_count": null,
   "id": "e839e3cc",
   "metadata": {},
   "outputs": [],
   "source": [
    "class DiceScore(nn.Module):\n",
    "    def __init__(self, weight=None, size_average=True):\n",
    "        super().__init__()\n",
    "        self.normalization=nn.Softmax(dim=1)\n",
    "\n",
    "    def forward(self, inputs, targets, smooth=1e-4):\n",
    "        inputs = self.normalization(inputs)\n",
    "\n",
    "        targets = targets[:, 1:2, ...]\n",
    "        inputs = torch.where(inputs[:, 1:2, ...] > 0.5, 1.0, 0.0)\n",
    "\n",
    "        inputs = inputs.reshape(-1)\n",
    "        targets = targets.reshape(-1)\n",
    "\n",
    "        intersection = (inputs * targets).sum()\n",
    "        dice = (2. * intersection + smooth) / (inputs.sum() + targets.sum() + smooth)\n",
    "\n",
    "        return dice"
   ]
  },
  {
   "cell_type": "code",
   "execution_count": null,
   "id": "ea6d8451",
   "metadata": {},
   "outputs": [],
   "source": [
    "validds=makeDataset(kind='valid',location='data_npy')\n",
    "validLoader=DataLoader(validds,batch_size=1,shuffle=False, pin_memory=config.PIN_MEMORY)\n",
    "DiceCoef = DiceScore()\n",
    "\n",
    "totaldice=0\n",
    "validstep=0"
   ]
  },
  {
   "cell_type": "code",
   "execution_count": null,
   "id": "07e5eefb",
   "metadata": {},
   "outputs": [],
   "source": [
    "unet = UNet(64,5,use_xavier=True,use_batchNorm=True,dropout=0.5,retain_size=True,nbCls=2)\n",
    "devices = 'cpu'\n",
    "device_num = 0\n",
    "if torch.cuda.is_available():\n",
    "    devices = 'gpu'\n",
    "    device_num = torch.cuda.device_count()\n",
    "unet = torch.nn.DataParallel(unet)\n",
    "unet.to(config.DEVICE)\n",
    "if torch.cuda.is_available():\n",
    "    print('CUDA Available!')\n",
    "    unet.load_state_dict(torch.load('./final_result/unet.pt'))\n",
    "else:\n",
    "    print('CUDA is unavailable, using CPU instead!')\n",
    "    unet.load_state_dict(torch.load('./final_result/unet.pt', map_location=torch.device('cpu')))"
   ]
  },
  {
   "cell_type": "code",
   "execution_count": null,
   "id": "bd27ccd2",
   "metadata": {},
   "outputs": [],
   "source": [
    "start_time=time.time()\n",
    "with torch.no_grad():\n",
    "    unet.eval()\n",
    "    for (x,y) in validLoader:\n",
    "        (x,y) = (x.to(config.DEVICE),y.to(config.DEVICE))\n",
    "        pred=unet(x)\n",
    "        dice_score=DiceCoef(pred,y)\n",
    "        \n",
    "        validstep+=1      \n",
    "        totaldice += dice_score\n",
    "end_time=time.time()\n",
    "print('Elapsed Time: {:.3f}'.format(end_time-start_time))"
   ]
  },
  {
   "cell_type": "code",
   "execution_count": null,
   "id": "f77f7671",
   "metadata": {},
   "outputs": [],
   "source": [
    "print('Estimated Dice Score for Validation set: {:.04f}%'.format((totaldice/validstep).item()*100))"
   ]
  },
  {
   "cell_type": "markdown",
   "id": "392968c4",
   "metadata": {},
   "source": [
    "# 93.5450% for drop out at evey layer & loss: GDC\n",
    "\n",
    "# 94.1459% for dropout at every layer and loss Dice Loss\n",
    "\n",
    "# 94.9923% for drop out at lowest layer and GDC, but Randomcrop 256(4X Faster)\n",
    "\n",
    "# 95.3493% for drop out at lowest layer and GDC->Final Model"
   ]
  },
  {
   "cell_type": "markdown",
   "id": "00a4de3d",
   "metadata": {},
   "source": [
    "## UNet Model Summary"
   ]
  },
  {
   "cell_type": "code",
   "execution_count": null,
   "id": "32fbb30d",
   "metadata": {},
   "outputs": [],
   "source": [
    "with open('./final_result/history.pkl','rb') as f:\n",
    "    history=pickle.load(f)"
   ]
  },
  {
   "cell_type": "code",
   "execution_count": null,
   "id": "68d92eba",
   "metadata": {},
   "outputs": [],
   "source": [
    "plt.style.use('ggplot')\n",
    "plt.figure(figsize=(15,10))\n",
    "plt.plot(np.arange(1,35),history['dice_valid_score'],'o-',label='Validation')\n",
    "plt.title('Train Result')\n",
    "plt.xlabel('# of Epochs')\n",
    "plt.ylabel('Dice Score')\n",
    "plt.legend(loc='lower right')\n",
    "plt.savefig('./final_result/train_result.png')"
   ]
  },
  {
   "cell_type": "code",
   "execution_count": null,
   "id": "a858247e",
   "metadata": {},
   "outputs": [],
   "source": []
  }
 ],
 "metadata": {
  "kernelspec": {
   "display_name": "Python 3 (ipykernel)",
   "language": "python",
   "name": "python3"
  },
  "language_info": {
   "codemirror_mode": {
    "name": "ipython",
    "version": 3
   },
   "file_extension": ".py",
   "mimetype": "text/x-python",
   "name": "python",
   "nbconvert_exporter": "python",
   "pygments_lexer": "ipython3",
   "version": "3.9.7"
  }
 },
 "nbformat": 4,
 "nbformat_minor": 5
}
